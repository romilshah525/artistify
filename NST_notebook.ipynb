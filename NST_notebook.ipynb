{
 "cells": [
  {
   "cell_type": "code",
   "execution_count": 1,
   "metadata": {},
   "outputs": [],
   "source": [
    "from time import time"
   ]
  },
  {
   "cell_type": "code",
   "execution_count": 2,
   "metadata": {},
   "outputs": [],
   "source": [
    "from numpy import expand_dims, clip, squeeze, arange"
   ]
  },
  {
   "cell_type": "code",
   "execution_count": 3,
   "metadata": {},
   "outputs": [],
   "source": [
    "from PIL.Image import fromarray"
   ]
  },
  {
   "cell_type": "code",
   "execution_count": 4,
   "metadata": {},
   "outputs": [],
   "source": [
    "import seaborn as sns"
   ]
  },
  {
   "cell_type": "code",
   "execution_count": 5,
   "metadata": {},
   "outputs": [],
   "source": [
    "import tensorflow as tf\n",
    "from tensorflow.python.keras.models import Model\n",
    "from tensorflow.python.keras.applications.vgg19 import VGG19\n",
    "from tensorflow.python.keras.applications.vgg19 import preprocess_input\n",
    "from tensorflow.python.keras.preprocessing.image import load_img, img_to_array\n",
    "from tensorflow.python.keras.optimizers import Adam"
   ]
  },
  {
   "cell_type": "code",
   "execution_count": 6,
   "metadata": {},
   "outputs": [],
   "source": [
    "class NeuralStyleTransfer(object):\n",
    "\n",
    "    def __init__(self, content_img, style_img):\n",
    "        self.content_img = self.load_and_process_image(content_img)\n",
    "        self.style_img = self.load_and_process_image(style_img)\n",
    "        self.generated_images = []\n",
    "        self.best_image = None\n",
    "        self.best_cost = 1e14+0.1\n",
    "        self.is_training = False\n",
    "        self.initialize_models_and_layers()\n",
    "        self.set_paramers_and_hyper_parameters()\n",
    "        self.generated = None\n",
    "\n",
    "    def set_paramers_and_hyper_parameters(self, iterations=2, alpha=10., beta=20., lr=0.01):\n",
    "        self.iterations = iterations\n",
    "        self.alpha = alpha\n",
    "        self.beta = beta\n",
    "        self.optimizer = tf.keras.optimizers.Adam(learning_rate=lr)\n",
    "        self.lam = 1. / len(self.style_models)\n",
    "\n",
    "    def initialize_models_and_layers(self):\n",
    "        self.model = VGG19(include_top=False, weights='imagenet')\n",
    "        self.model.trainable = False\n",
    "        self.style_layers = ['block1_conv1','block2_conv1','block3_conv1', 'block4_conv1', 'block5_conv1']\n",
    "        self.content_layer = 'block5_conv2'\n",
    "        self.content_model = Model(inputs=self.model.input,\n",
    "                                   outputs=self.model.get_layer(self.content_layer).output)\n",
    "        self.style_models = [Model(inputs=self.model.input,\n",
    "                                   outputs=self.model.get_layer(layer).output) for layer in self.style_layers]\n",
    "\n",
    "    def load_and_process_image(self, image_path):\n",
    "        img = load_img(image_path, target_size=(224, 224))\n",
    "        img = img_to_array(img)\n",
    "        img = preprocess_input(img)\n",
    "        img = expand_dims(img, axis=0)\n",
    "        return img\n",
    "\n",
    "    def get_model_layers(self):\n",
    "        self.layers = []\n",
    "        for layer in self.model.layers:\n",
    "            self.layers.append(layer.name)\n",
    "        return self.layers\n",
    "        \n",
    "    def deprocess(self, x):\n",
    "        x[:, :, 0] += 103.939\n",
    "        x[:, :, 1] += 116.779\n",
    "        x[:, :, 2] += 123.68\n",
    "        x = x[:, :, ::-1]\n",
    "        x = clip(x, 0, 255).astype('uint8')\n",
    "        return x\n",
    "\n",
    "    def save_image(self, image):\n",
    "        if len(image.shape) == 4:\n",
    "            img = squeeze(image, axis=0)\n",
    "        img = self.deprocess(img)\n",
    "        im = fromarray(img)\n",
    "        filename = \"final\" + str(int(time())) + \".png\"\n",
    "        im.save('./static/'+filename)\n",
    "        return filename\n",
    "\n",
    "    def content_cost(self, content, generated):\n",
    "        a_C = self.content_model(content)\n",
    "        a_G = self.content_model(generated)\n",
    "        cost = tf.reduce_mean(tf.square(a_C - a_G))\n",
    "        return cost\n",
    "\n",
    "    def calculate_gram_matrix(self, A):\n",
    "        channels = int(A.shape[-1])\n",
    "        a = tf.reshape(A, [-1, channels])\n",
    "        n = tf.shape(a)[0]\n",
    "        gram = tf.matmul(a, a, transpose_a=True)\n",
    "        return gram / tf.cast(n, tf.float32)\n",
    "\n",
    "    def style_cost(self, style, generated):\n",
    "        J_style = 0\n",
    "        for style_model in self.style_models:\n",
    "            a_S = style_model(style)\n",
    "            a_G = style_model(generated)\n",
    "            GS = self.calculate_gram_matrix(a_S)\n",
    "            GG = self.calculate_gram_matrix(a_G)\n",
    "            current_cost = tf.reduce_mean(tf.square(GS - GG))\n",
    "            J_style += current_cost * self.lam\n",
    "        return J_style\n",
    "\n",
    "    def train(self):\n",
    "        self.generated = tf.Variable(self.content_img, dtype=tf.float32)\n",
    "        self.is_training = True\n",
    "        self.best_image = self.generated.numpy()\n",
    "        for i in range(self.iterations):\n",
    "            with tf.GradientTape() as tape:\n",
    "                J_content = self.content_cost(self.content_img, self.generated)\n",
    "                J_style = self.style_cost(self.style_img, self.generated)\n",
    "                J_total = self.alpha * J_content + self.beta * J_style\n",
    "            grads = tape.gradient(J_total, self.generated)\n",
    "            self.optimizer.apply_gradients([(grads, self.generated)])\n",
    "            print(f\"J_total: {J_total}\")\n",
    "            if J_total < self.best_cost:\n",
    "                self.best_cost = J_total\n",
    "                self.best_image = self.generated.numpy()\n",
    "            self.generated_images.append(self.generated.numpy())\n",
    "            yield J_total, self.is_training\n",
    "        self.is_training = False\n",
    "        yield self.best_image, self.is_training\n",
    "        \n",
    "    def continue_training(self, additional_iterations=10):\n",
    "        self.is_training = True\n",
    "        for i in range(additional_iterations):\n",
    "            with tf.GradientTape() as tape:\n",
    "                J_content = self.content_cost(self.content_img, self.generated)\n",
    "                J_style = self.style_cost(self.style_img, self.generated)\n",
    "                J_total = self.alpha * J_content + self.beta * J_style\n",
    "            grads = tape.gradient(J_total, self.generated)\n",
    "            self.optimizer.apply_gradients([(grads, self.generated)])\n",
    "            print(f\"J_total: {J_total}\")\n",
    "            if J_total < self.best_cost:\n",
    "                self.best_cost = J_total\n",
    "                self.best_image = self.generated.numpy()\n",
    "            self.generated_images.append(self.generated.numpy())\n",
    "            yield J_total, self.is_training\n",
    "        self.is_training = False\n",
    "        yield self.best_image, self.is_training\n",
    "        "
   ]
  },
  {
   "cell_type": "code",
   "execution_count": 7,
   "metadata": {},
   "outputs": [],
   "source": [
    "nst = NeuralStyleTransfer(content_img=\"/home/romil/Desktop/Projects/artistify/static/content.jpg\", style_img=\"/home/romil/Desktop/Projects/artistify/static/style.jpg\")"
   ]
  },
  {
   "cell_type": "code",
   "execution_count": 8,
   "metadata": {},
   "outputs": [
    {
     "data": {
      "text/plain": [
       "['input_1',\n",
       " 'block1_conv1',\n",
       " 'block1_conv2',\n",
       " 'block1_pool',\n",
       " 'block2_conv1',\n",
       " 'block2_conv2',\n",
       " 'block2_pool',\n",
       " 'block3_conv1',\n",
       " 'block3_conv2',\n",
       " 'block3_conv3',\n",
       " 'block3_conv4',\n",
       " 'block3_pool',\n",
       " 'block4_conv1',\n",
       " 'block4_conv2',\n",
       " 'block4_conv3',\n",
       " 'block4_conv4',\n",
       " 'block4_pool',\n",
       " 'block5_conv1',\n",
       " 'block5_conv2',\n",
       " 'block5_conv3',\n",
       " 'block5_conv4',\n",
       " 'block5_pool']"
      ]
     },
     "execution_count": 8,
     "metadata": {},
     "output_type": "execute_result"
    }
   ],
   "source": [
    "nst.get_model_layers()"
   ]
  },
  {
   "cell_type": "code",
   "execution_count": 9,
   "metadata": {},
   "outputs": [],
   "source": [
    "iterations = 2\n",
    "cost = []"
   ]
  },
  {
   "cell_type": "code",
   "execution_count": 10,
   "metadata": {},
   "outputs": [],
   "source": [
    "nst.set_paramers_and_hyper_parameters(iterations, alpha=10., beta=20., lr=3.14)"
   ]
  },
  {
   "cell_type": "code",
   "execution_count": 11,
   "metadata": {},
   "outputs": [
    {
     "name": "stdout",
     "output_type": "stream",
     "text": [
      "J_total: 1084559458304.0\n",
      "J_total: 747710119936.0\n"
     ]
    }
   ],
   "source": [
    "for val, is_training in nst.train():\n",
    "    if is_training: cost.append(val.numpy())"
   ]
  },
  {
   "cell_type": "code",
   "execution_count": 12,
   "metadata": {},
   "outputs": [
    {
     "name": "stdout",
     "output_type": "stream",
     "text": [
      "J_total: 503391191040.0\n",
      "J_total: 359582957568.0\n",
      "J_total: 296360968192.0\n",
      "J_total: 259988357120.0\n",
      "J_total: 226989359104.0\n",
      "J_total: 202669211648.0\n",
      "J_total: 185146884096.0\n",
      "J_total: 168367931392.0\n",
      "J_total: 151773298688.0\n",
      "J_total: 137609822208.0\n",
      "J_total: 126075682816.0\n",
      "J_total: 115944603648.0\n",
      "J_total: 107074281472.0\n",
      "final1601618859.png\n"
     ]
    }
   ],
   "source": [
    "for val, is_training in nst.continue_training(additional_iterations=13):\n",
    "    if is_training: cost.append(val.numpy())\n",
    "    else:\n",
    "        fname = nst.save_image(val)\n",
    "        print(fname)"
   ]
  },
  {
   "cell_type": "code",
   "execution_count": 13,
   "metadata": {},
   "outputs": [
    {
     "name": "stderr",
     "output_type": "stream",
     "text": [
      "/home/romil/anaconda3/lib/python3.7/site-packages/seaborn/_decorators.py:43: FutureWarning: Pass the following variables as keyword args: x, y. From version 0.12, the only valid positional argument will be `data`, and passing other arguments without an explicit keyword will result in an error or misinterpretation.\n",
      "  FutureWarning\n"
     ]
    },
    {
     "data": {
      "image/png": "[encoded data removed]",
      "text/plain": [
       "<Figure size 432x288 with 1 Axes>"
      ]
     },
     "metadata": {
      "needs_background": "light"
     },
     "output_type": "display_data"
    }
   ],
   "source": [
    "sns.lineplot(arange(1,len(cost)+1),cost);"
   ]
  },
  {
   "cell_type": "code",
   "execution_count": null,
   "metadata": {},
   "outputs": [],
   "source": []
  }
 ],
 "metadata": {
  "kernelspec": {
   "display_name": "Python 3",
   "language": "python",
   "name": "python3"
  },
  "language_info": {
   "codemirror_mode": {
    "name": "ipython",
    "version": 3
   },
   "file_extension": ".py",
   "mimetype": "text/x-python",
   "name": "python",
   "nbconvert_exporter": "python",
   "pygments_lexer": "ipython3",
   "version": "3.7.7"
  },
  "toc": {
   "base_numbering": 1,
   "nav_menu": {},
   "number_sections": true,
   "sideBar": true,
   "skip_h1_title": false,
   "title_cell": "Table of Contents",
   "title_sidebar": "Contents",
   "toc_cell": false,
   "toc_position": {},
   "toc_section_display": true,
   "toc_window_display": false
  }
 },
 "nbformat": 4,
 "nbformat_minor": 4
}
