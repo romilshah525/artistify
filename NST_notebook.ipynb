{
 "cells": [
  {
   "cell_type": "code",
   "execution_count": 74,
   "metadata": {},
   "outputs": [],
   "source": [
    "import seaborn as sns"
   ]
  },
  {
   "cell_type": "code",
   "execution_count": 75,
   "metadata": {},
   "outputs": [],
   "source": [
    "import numpy as np"
   ]
  },
  {
   "cell_type": "code",
   "execution_count": 1,
   "metadata": {},
   "outputs": [],
   "source": [
    "from numpy import expand_dims, clip, squeeze\n",
    "from PIL.Image import fromarray\n",
    "from random import randint\n",
    "\n",
    "import tensorflow as tf\n",
    "from tensorflow.python.keras.models import Model\n",
    "from tensorflow.python.keras.applications.vgg19 import VGG19\n",
    "from tensorflow.python.keras.applications.vgg19 import preprocess_input\n",
    "from tensorflow.python.keras.preprocessing.image import load_img, img_to_array"
   ]
  },
  {
   "cell_type": "code",
   "execution_count": 68,
   "metadata": {},
   "outputs": [],
   "source": [
    "\n",
    "class NeuralStyleTransfer(object):\n",
    "\n",
    "    def __init__(self, content_img, style_img):\n",
    "        self.content_img = self.load_and_process_image(content_img)\n",
    "        self.style_img = self.load_and_process_image(style_img)\n",
    "        self.generated_images = []\n",
    "        self.best_img = None\n",
    "        self.initialize_models_and_layers()\n",
    "        self.set_paramers_and_hyper_parameters()\n",
    "\n",
    "    def set_paramers_and_hyper_parameters(self, iterations=2, alpha=10., beta=20., lr=0.01):\n",
    "        self.iterations = iterations\n",
    "        self.alpha = alpha\n",
    "        self.beta = beta\n",
    "        self.optimizer = tf.keras.optimizers.Adam(learning_rate=lr)\n",
    "        self.lam = 1. / len(self.style_models)\n",
    "\n",
    "    def initialize_models_and_layers(self):\n",
    "        self.model = VGG19(include_top=False, weights='imagenet')\n",
    "        self.model.trainable = False\n",
    "        self.style_layers = ['block1_conv1', 'block3_conv1', 'block5_conv1']\n",
    "        # self.style_layers = ['block5_conv1']\n",
    "        self.content_layer = 'block5_conv2'\n",
    "        self.content_model = Model(inputs=self.model.input,\n",
    "                                   outputs=self.model.get_layer(self.content_layer).output)\n",
    "        self.style_models = [Model(inputs=self.model.input,\n",
    "                                   outputs=self.model.get_layer(layer).output) for layer in self.style_layers]\n",
    "\n",
    "    def load_and_process_image(self, image_path):\n",
    "        img = load_img(image_path, target_size=(224, 224))\n",
    "        img = img_to_array(img)\n",
    "        img = preprocess_input(img)\n",
    "        img = expand_dims(img, axis=0)\n",
    "        return img\n",
    "\n",
    "    def deprocess(self, x):\n",
    "        x[:, :, 0] += 103.939\n",
    "        x[:, :, 1] += 116.779\n",
    "        x[:, :, 2] += 123.68\n",
    "        x = x[:, :, ::-1]\n",
    "        x = clip(x, 0, 255).astype('uint8')\n",
    "        return x\n",
    "\n",
    "    def save_image(self, image):\n",
    "        if len(image.shape) == 4:\n",
    "            img = squeeze(image, axis=0)\n",
    "        img = self.deprocess(img)\n",
    "        im = fromarray(img)\n",
    "        filename = \"final\" + str(randint(10001, 999999)) + \".png\"\n",
    "        im.save('./static/'+filename)\n",
    "        return filename\n",
    "\n",
    "    def content_cost(self, content, generated):\n",
    "        a_C = self.content_model(content)\n",
    "        a_G = self.content_model(generated)\n",
    "        cost = tf.reduce_mean(tf.square(a_C - a_G))\n",
    "        return cost\n",
    "\n",
    "    def calculate_gram_matrix(self, A):\n",
    "        channels = int(A.shape[-1])\n",
    "        a = tf.reshape(A, [-1, channels])\n",
    "        n = tf.shape(a)[0]\n",
    "        gram = tf.matmul(a, a, transpose_a=True)\n",
    "        return gram / tf.cast(n, tf.float32)\n",
    "\n",
    "    def style_cost(self, style, generated):\n",
    "        J_style = 0\n",
    "        for style_model in self.style_models:\n",
    "            a_S = style_model(style)\n",
    "            a_G = style_model(generated)\n",
    "            GS = self.calculate_gram_matrix(a_S)\n",
    "            GG = self.calculate_gram_matrix(a_G)\n",
    "            current_cost = tf.reduce_mean(tf.square(GS - GG))\n",
    "            J_style += current_cost * self.lam\n",
    "        return J_style\n",
    "\n",
    "    def train(self):\n",
    "        \n",
    "        generated = tf.Variable(self.content_img, dtype=tf.float32)\n",
    "        best_cost = 1e12+0.1\n",
    "        is_training = True\n",
    "        \n",
    "        for i in range(self.iterations):\n",
    "\n",
    "            with tf.GradientTape() as tape:\n",
    "                J_content = self.content_cost(self.content_img, generated)\n",
    "                J_style = self.style_cost(self.style_img, generated)\n",
    "                J_total = self.alpha * J_content + self.beta * J_style\n",
    "\n",
    "            grads = tape.gradient(J_total, generated)\n",
    "            self.optimizer.apply_gradients([(grads, generated)])\n",
    "\n",
    "            print(f\"J_total: {J_total}\")\n",
    "            if J_total < best_cost:\n",
    "                best_cost = J_total\n",
    "                self.best_image = generated.numpy()\n",
    "\n",
    "            self.generated_images.append(generated.numpy())\n",
    "            yield J_total, is_training\n",
    "            \n",
    "        is_training = False\n",
    "        yield self.best_image, is_training"
   ]
  },
  {
   "cell_type": "code",
   "execution_count": 69,
   "metadata": {},
   "outputs": [],
   "source": [
    "nst = NeuralStyleTransfer(\"./static/content.jpg\", \"./static/style.jpg\" )"
   ]
  },
  {
   "cell_type": "code",
   "execution_count": 70,
   "metadata": {},
   "outputs": [],
   "source": [
    "iterations = 50"
   ]
  },
  {
   "cell_type": "code",
   "execution_count": 71,
   "metadata": {},
   "outputs": [],
   "source": [
    "nst.set_paramers_and_hyper_parameters(iterations, alpha=10., beta=20., lr=3.14)"
   ]
  },
  {
   "cell_type": "code",
   "execution_count": 72,
   "metadata": {},
   "outputs": [],
   "source": [
    "cost = []"
   ]
  },
  {
   "cell_type": "code",
   "execution_count": 73,
   "metadata": {},
   "outputs": [
    {
     "name": "stdout",
     "output_type": "stream",
     "text": [
      "J_total: 13733986304.0\n",
      "J_total: 10889334784.0\n",
      "J_total: 8328617984.0\n",
      "J_total: 6370275328.0\n",
      "J_total: 5083037696.0\n",
      "J_total: 4324132864.0\n",
      "J_total: 3813856768.0\n",
      "J_total: 3373636864.0\n",
      "J_total: 2981816576.0\n",
      "J_total: 2667971328.0\n",
      "J_total: 2441682944.0\n",
      "J_total: 2275280896.0\n",
      "J_total: 2133378944.0\n",
      "J_total: 1994871552.0\n",
      "J_total: 1858796800.0\n",
      "J_total: 1732075392.0\n",
      "J_total: 1620399616.0\n",
      "J_total: 1523319808.0\n",
      "J_total: 1435952640.0\n",
      "J_total: 1353533440.0\n",
      "J_total: 1274359680.0\n",
      "J_total: 1200010112.0\n",
      "J_total: 1132787968.0\n",
      "J_total: 1073885952.0\n",
      "J_total: 1021899584.0\n",
      "J_total: 975234048.0\n",
      "J_total: 932923648.0\n",
      "J_total: 894302784.0\n",
      "J_total: 858724032.0\n",
      "J_total: 825589888.0\n",
      "J_total: 794075072.0\n",
      "J_total: 763812736.0\n",
      "J_total: 735404864.0\n",
      "J_total: 709392512.0\n",
      "J_total: 685638528.0\n",
      "J_total: 663613056.0\n",
      "J_total: 642815296.0\n",
      "J_total: 623068416.0\n",
      "J_total: 604534912.0\n",
      "J_total: 587208000.0\n",
      "J_total: 570816832.0\n",
      "J_total: 555030464.0\n",
      "J_total: 539839488.0\n",
      "J_total: 525492608.0\n",
      "J_total: 512094624.0\n",
      "J_total: 499537792.0\n",
      "J_total: 487624768.0\n",
      "J_total: 476215552.0\n",
      "J_total: 465310528.0\n",
      "J_total: 454929888.0\n",
      "final772292.png\n"
     ]
    }
   ],
   "source": [
    "for val, is_training in nst.train():\n",
    "    if is_training: cost.append(val)\n",
    "    else:\n",
    "        fname = nst.save_image(val)\n",
    "        print(fname)"
   ]
  },
  {
   "cell_type": "code",
   "execution_count": 76,
   "metadata": {},
   "outputs": [],
   "source": [
    "cost = [cst.numpy() for cst in cost]"
   ]
  },
  {
   "cell_type": "code",
   "execution_count": 77,
   "metadata": {},
   "outputs": [
    {
     "data": {
      "text/plain": [
       "<matplotlib.axes._subplots.AxesSubplot at 0x7fa6812d0b50>"
      ]
     },
     "execution_count": 77,
     "metadata": {},
     "output_type": "execute_result"
    },
    {
     "data": {
      "image/png": "[encoded data removed]",
      "text/plain": [
       "<Figure size 432x288 with 1 Axes>"
      ]
     },
     "metadata": {
      "needs_background": "light"
     },
     "output_type": "display_data"
    }
   ],
   "source": [
    "sns.lineplot(np.arange(1,iterations+1),cost)"
   ]
  },
  {
   "cell_type": "code",
   "execution_count": null,
   "metadata": {},
   "outputs": [],
   "source": []
  },
  {
   "cell_type": "code",
   "execution_count": null,
   "metadata": {},
   "outputs": [],
   "source": []
  }
 ],
 "metadata": {
  "kernelspec": {
   "display_name": "Python 3",
   "language": "python",
   "name": "python3"
  },
  "language_info": {
   "codemirror_mode": {
    "name": "ipython",
    "version": 3
   },
   "file_extension": ".py",
   "mimetype": "text/x-python",
   "name": "python",
   "nbconvert_exporter": "python",
   "pygments_lexer": "ipython3",
   "version": "3.7.7"
  },
  "toc": {
   "base_numbering": 1,
   "nav_menu": {},
   "number_sections": true,
   "sideBar": true,
   "skip_h1_title": false,
   "title_cell": "Table of Contents",
   "title_sidebar": "Contents",
   "toc_cell": false,
   "toc_position": {},
   "toc_section_display": true,
   "toc_window_display": false
  }
 },
 "nbformat": 4,
 "nbformat_minor": 4
}
