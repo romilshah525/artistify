{
 "cells": [
  {
   "cell_type": "code",
   "execution_count": 1,
   "metadata": {},
   "outputs": [],
   "source": [
    "from numpy import expand_dims, clip, squeeze, arange\n",
    "from random import randint"
   ]
  },
  {
   "cell_type": "code",
   "execution_count": 2,
   "metadata": {},
   "outputs": [],
   "source": [
    "from PIL.Image import fromarray"
   ]
  },
  {
   "cell_type": "code",
   "execution_count": 3,
   "metadata": {},
   "outputs": [
    {
     "name": "stderr",
     "output_type": "stream",
     "text": [
      "/home/romil/anaconda3/lib/python3.7/importlib/_bootstrap.py:219: RuntimeWarning: numpy.ufunc size changed, may indicate binary incompatibility. Expected 192 from C header, got 216 from PyObject\n",
      "  return f(*args, **kwds)\n",
      "/home/romil/anaconda3/lib/python3.7/importlib/_bootstrap.py:219: RuntimeWarning: numpy.ufunc size changed, may indicate binary incompatibility. Expected 192 from C header, got 216 from PyObject\n",
      "  return f(*args, **kwds)\n",
      "/home/romil/anaconda3/lib/python3.7/importlib/_bootstrap.py:219: RuntimeWarning: numpy.ufunc size changed, may indicate binary incompatibility. Expected 192 from C header, got 216 from PyObject\n",
      "  return f(*args, **kwds)\n",
      "/home/romil/anaconda3/lib/python3.7/importlib/_bootstrap.py:219: RuntimeWarning: numpy.ufunc size changed, may indicate binary incompatibility. Expected 192 from C header, got 216 from PyObject\n",
      "  return f(*args, **kwds)\n"
     ]
    }
   ],
   "source": [
    "import seaborn as sns"
   ]
  },
  {
   "cell_type": "code",
   "execution_count": 4,
   "metadata": {},
   "outputs": [],
   "source": [
    "import tensorflow as tf\n",
    "from tensorflow.python.keras.models import Model\n",
    "from tensorflow.python.keras.applications.vgg19 import VGG19\n",
    "from tensorflow.python.keras.applications.vgg19 import preprocess_input\n",
    "from tensorflow.python.keras.preprocessing.image import load_img, img_to_array"
   ]
  },
  {
   "cell_type": "code",
   "execution_count": 9,
   "metadata": {},
   "outputs": [],
   "source": [
    "class NeuralStyleTransfer(object):\n",
    "\n",
    "    def __init__(self, content_img, style_img):\n",
    "        self.content_img = self.load_and_process_image(content_img)\n",
    "        self.style_img = self.load_and_process_image(style_img)\n",
    "        self.generated_images = []\n",
    "        self.best_img = None\n",
    "        self.initialize_models_and_layers()\n",
    "        self.set_paramers_and_hyper_parameters()\n",
    "\n",
    "    def set_paramers_and_hyper_parameters(self, iterations=2, alpha=10., beta=20., lr=0.01):\n",
    "        self.iterations = iterations\n",
    "        self.alpha = alpha\n",
    "        self.beta = beta\n",
    "        self.optimizer = tf.keras.optimizers.Adam(learning_rate=lr)\n",
    "        self.lam = 1. / len(self.style_models)\n",
    "\n",
    "    def initialize_models_and_layers(self):\n",
    "        self.model = VGG19(include_top=False, weights='imagenet')\n",
    "        self.model.trainable = False\n",
    "        self.style_layers = ['block1_conv1','block2_conv1','block3_conv1', 'block4_conv1', 'block5_conv1']\n",
    "        self.content_layer = 'block5_conv2'\n",
    "        self.content_model = Model(inputs=self.model.input,\n",
    "                                   outputs=self.model.get_layer(self.content_layer).output)\n",
    "        self.style_models = [Model(inputs=self.model.input,\n",
    "                                   outputs=self.model.get_layer(layer).output) for layer in self.style_layers]\n",
    "\n",
    "    def load_and_process_image(self, image_path):\n",
    "        img = load_img(image_path, target_size=(224, 224))\n",
    "        img = img_to_array(img)\n",
    "        img = preprocess_input(img)\n",
    "        img = expand_dims(img, axis=0)\n",
    "        return img\n",
    "\n",
    "    def get_model_layers(self):\n",
    "        self.layers = []\n",
    "        for layer in self.model.layers:\n",
    "            self.layers.append(layer.name)\n",
    "        return self.layers\n",
    "        \n",
    "    def deprocess(self, x):\n",
    "        x[:, :, 0] += 103.939\n",
    "        x[:, :, 1] += 116.779\n",
    "        x[:, :, 2] += 123.68\n",
    "        x = x[:, :, ::-1]\n",
    "        x = clip(x, 0, 255).astype('uint8')\n",
    "        return x\n",
    "\n",
    "    def save_image(self, image):\n",
    "        if len(image.shape) == 4:\n",
    "            img = squeeze(image, axis=0)\n",
    "        img = self.deprocess(img)\n",
    "        im = fromarray(img)\n",
    "        filename = \"final\" + str(randint(10001, 999999)) + \".png\"\n",
    "        im.save('./static/'+filename)\n",
    "        return filename\n",
    "\n",
    "    def content_cost(self, content, generated):\n",
    "        a_C = self.content_model(content)\n",
    "        a_G = self.content_model(generated)\n",
    "        cost = tf.reduce_mean(tf.square(a_C - a_G))\n",
    "        return cost\n",
    "\n",
    "    def calculate_gram_matrix(self, A):\n",
    "        channels = int(A.shape[-1])\n",
    "        a = tf.reshape(A, [-1, channels])\n",
    "        n = tf.shape(a)[0]\n",
    "        gram = tf.matmul(a, a, transpose_a=True)\n",
    "        return gram / tf.cast(n, tf.float32)\n",
    "\n",
    "    def style_cost(self, style, generated):\n",
    "        J_style = 0\n",
    "        for style_model in self.style_models:\n",
    "            a_S = style_model(style)\n",
    "            a_G = style_model(generated)\n",
    "            GS = self.calculate_gram_matrix(a_S)\n",
    "            GG = self.calculate_gram_matrix(a_G)\n",
    "            current_cost = tf.reduce_mean(tf.square(GS - GG))\n",
    "            J_style += current_cost * self.lam\n",
    "        return J_style\n",
    "\n",
    "    def train(self):\n",
    "        \n",
    "        generated = tf.Variable(self.content_img, dtype=tf.float32)\n",
    "        best_cost = 1e12+0.1\n",
    "        is_training = True\n",
    "        \n",
    "        for i in range(self.iterations):\n",
    "\n",
    "            with tf.GradientTape() as tape:\n",
    "                J_content = self.content_cost(self.content_img, generated)\n",
    "                J_style = self.style_cost(self.style_img, generated)\n",
    "                J_total = self.alpha * J_content + self.beta * J_style\n",
    "\n",
    "            grads = tape.gradient(J_total, generated)\n",
    "            self.optimizer.apply_gradients([(grads, generated)])\n",
    "\n",
    "            print(f\"J_total: {J_total}\")\n",
    "            if J_total < best_cost:\n",
    "                best_cost = J_total\n",
    "                self.best_image = generated.numpy()\n",
    "\n",
    "            self.generated_images.append(generated.numpy())\n",
    "            yield J_total, is_training\n",
    "            \n",
    "        is_training = False\n",
    "        yield self.best_image, is_training"
   ]
  },
  {
   "cell_type": "code",
   "execution_count": 12,
   "metadata": {},
   "outputs": [],
   "source": [
    "nst = NeuralStyleTransfer(\"/home/romil/Downloads/VKComposition.jpg\", \"/home/romil/Downloads/dog.jpg\" )"
   ]
  },
  {
   "cell_type": "code",
   "execution_count": 13,
   "metadata": {},
   "outputs": [
    {
     "data": {
      "text/plain": [
       "['input_3',\n",
       " 'block1_conv1',\n",
       " 'block1_conv2',\n",
       " 'block1_pool',\n",
       " 'block2_conv1',\n",
       " 'block2_conv2',\n",
       " 'block2_pool',\n",
       " 'block3_conv1',\n",
       " 'block3_conv2',\n",
       " 'block3_conv3',\n",
       " 'block3_conv4',\n",
       " 'block3_pool',\n",
       " 'block4_conv1',\n",
       " 'block4_conv2',\n",
       " 'block4_conv3',\n",
       " 'block4_conv4',\n",
       " 'block4_pool',\n",
       " 'block5_conv1',\n",
       " 'block5_conv2',\n",
       " 'block5_conv3',\n",
       " 'block5_conv4',\n",
       " 'block5_pool']"
      ]
     },
     "execution_count": 13,
     "metadata": {},
     "output_type": "execute_result"
    }
   ],
   "source": [
    "nst.get_model_layers()"
   ]
  },
  {
   "cell_type": "code",
   "execution_count": 14,
   "metadata": {},
   "outputs": [],
   "source": [
    "iterations = 50"
   ]
  },
  {
   "cell_type": "code",
   "execution_count": 15,
   "metadata": {},
   "outputs": [],
   "source": [
    "nst.set_paramers_and_hyper_parameters(iterations, alpha=10., beta=20., lr=3.14)"
   ]
  },
  {
   "cell_type": "code",
   "execution_count": 16,
   "metadata": {},
   "outputs": [],
   "source": [
    "cost = []"
   ]
  },
  {
   "cell_type": "code",
   "execution_count": 17,
   "metadata": {},
   "outputs": [
    {
     "name": "stdout",
     "output_type": "stream",
     "text": [
      "J_total: 5414697566208.0\n",
      "J_total: 3285158199296.0\n",
      "J_total: 2222399684608.0\n",
      "J_total: 1653511028736.0\n",
      "J_total: 1307705081856.0\n",
      "J_total: 1070869970944.0\n",
      "J_total: 895903072256.0\n",
      "J_total: 760874795008.0\n",
      "J_total: 654223015936.0\n",
      "J_total: 568986107904.0\n",
      "J_total: 500305002496.0\n",
      "J_total: 444171255808.0\n",
      "J_total: 397195182080.0\n",
      "J_total: 357291294720.0\n",
      "J_total: 323110895616.0\n",
      "J_total: 293324226560.0\n",
      "J_total: 267068112896.0\n",
      "J_total: 243934167040.0\n",
      "J_total: 223368642560.0\n",
      "J_total: 204993445888.0\n",
      "J_total: 188536258560.0\n",
      "J_total: 173878362112.0\n",
      "J_total: 160794640384.0\n",
      "J_total: 149146796032.0\n",
      "J_total: 138752786432.0\n",
      "J_total: 129384718336.0\n",
      "J_total: 120992874496.0\n",
      "J_total: 113450590208.0\n",
      "J_total: 106624335872.0\n",
      "J_total: 100446412800.0\n",
      "J_total: 94838808576.0\n",
      "J_total: 89722830848.0\n",
      "J_total: 85047918592.0\n",
      "J_total: 80766050304.0\n",
      "J_total: 76831916032.0\n",
      "J_total: 73214033920.0\n",
      "J_total: 69883944960.0\n",
      "J_total: 66816385024.0\n",
      "J_total: 63994068992.0\n",
      "J_total: 61395509248.0\n",
      "J_total: 58983567360.0\n",
      "J_total: 56741625856.0\n",
      "J_total: 54653112320.0\n",
      "J_total: 52705243136.0\n",
      "J_total: 50880802816.0\n",
      "J_total: 49171898368.0\n",
      "J_total: 47569522688.0\n",
      "J_total: 46068912128.0\n",
      "J_total: 44658642944.0\n",
      "J_total: 43325394944.0\n",
      "final155970.png\n"
     ]
    }
   ],
   "source": [
    "for val, is_training in nst.train():\n",
    "    if is_training: cost.append(val)\n",
    "    else:\n",
    "        fname = nst.save_image(val)\n",
    "        print(fname)"
   ]
  },
  {
   "cell_type": "code",
   "execution_count": 18,
   "metadata": {},
   "outputs": [],
   "source": [
    "cost = [cst.numpy() for cst in cost]"
   ]
  },
  {
   "cell_type": "code",
   "execution_count": 20,
   "metadata": {},
   "outputs": [
    {
     "data": {
      "text/plain": [
       "<matplotlib.axes._subplots.AxesSubplot at 0x7fe11d1d6890>"
      ]
     },
     "execution_count": 20,
     "metadata": {},
     "output_type": "execute_result"
    },
    {
     "data": {
      "image/png": "[encoded data removed]",
      "text/plain": [
       "<Figure size 432x288 with 1 Axes>"
      ]
     },
     "metadata": {
      "needs_background": "light"
     },
     "output_type": "display_data"
    }
   ],
   "source": [
    "sns.lineplot(arange(1,iterations+1),cost)"
   ]
  },
  {
   "cell_type": "code",
   "execution_count": null,
   "metadata": {},
   "outputs": [],
   "source": []
  },
  {
   "cell_type": "code",
   "execution_count": null,
   "metadata": {},
   "outputs": [],
   "source": []
  }
 ],
 "metadata": {
  "kernelspec": {
   "display_name": "Python 3",
   "language": "python",
   "name": "python3"
  },
  "language_info": {
   "codemirror_mode": {
    "name": "ipython",
    "version": 3
   },
   "file_extension": ".py",
   "mimetype": "text/x-python",
   "name": "python",
   "nbconvert_exporter": "python",
   "pygments_lexer": "ipython3",
   "version": "3.7.7"
  },
  "toc": {
   "base_numbering": 1,
   "nav_menu": {},
   "number_sections": true,
   "sideBar": true,
   "skip_h1_title": false,
   "title_cell": "Table of Contents",
   "title_sidebar": "Contents",
   "toc_cell": false,
   "toc_position": {},
   "toc_section_display": true,
   "toc_window_display": false
  }
 },
 "nbformat": 4,
 "nbformat_minor": 4
}
